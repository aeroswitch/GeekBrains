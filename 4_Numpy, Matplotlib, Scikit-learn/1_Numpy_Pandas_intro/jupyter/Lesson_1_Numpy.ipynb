{
 "cells": [
  {
   "cell_type": "markdown",
   "metadata": {
    "id": "zYhH0tL-Raf0"
   },
   "source": []
  },
  {
   "cell_type": "markdown",
   "metadata": {
    "id": "ns-71KvPthO6"
   },
   "source": [
    "\n",
    "\n",
    "```\n",
    "# Выбран кодовый формат\n",
    "```\n",
    "\n",
    "# Вычисления с помощью NumPy"
   ]
  },
  {
   "cell_type": "markdown",
   "metadata": {
    "id": "64bjzTcwthPF"
   },
   "source": [
    "## Многомерные массивы в NumPy\n",
    "\n",
    "Библиотека `numpy` поддерживает работу с многомерными массивами, в том числе, с матрицами, и очень хороша для научных расчётов. Библиотека написана не только на `Python`, но и на языке `C`, который является более низкоуровневым и работает значительно быстрее, поэтому расчёты в `numpy` производятся во много раз быстрее, чем если бы мы использовали для этого стандартные структуры данных из `Python`.\n",
    "\n",
    "Установить библиотеку `numpy` можно следующим образом:\n",
    "\n",
    "* Если вы используете `Python` в составе дистрибутива `Anaconda`, то достаточно в командной строке ввести:   \n",
    "`conda install numpy`\n",
    "\n",
    "* Если вы используете `Python` отдельно, то же самое можно сделать с помощью пакетного менеджера `pip`:   \n",
    "`pip install numpy`"
   ]
  },
  {
   "cell_type": "code",
   "execution_count": 1,
   "metadata": {
    "id": "OuuaXS_-GeuE"
   },
   "outputs": [],
   "source": [
    "import numpy as np"
   ]
  },
  {
   "cell_type": "markdown",
   "metadata": {
    "id": "Mp5R_ZKsthPH"
   },
   "source": [
    "Чтобы задать `numpy`-массив, достаточно задать обычный питоновский список `list`, а затем поместить его внутрь функции `np.array`:"
   ]
  },
  {
   "cell_type": "code",
   "execution_count": 2,
   "metadata": {
    "colab": {
     "base_uri": "https://localhost:8080/"
    },
    "id": "_9XWnoNDthPI",
    "outputId": "742b2920-05d0-4cc8-8394-610f8eebf326"
   },
   "outputs": [
    {
     "name": "stdout",
     "output_type": "stream",
     "text": [
      "[1 2 3]\n"
     ]
    }
   ],
   "source": [
    "a = np.array([1, 2, 3])\n",
    "\n",
    "print(a)"
   ]
  },
  {
   "cell_type": "markdown",
   "metadata": {
    "id": "zN2yWWNEthPK"
   },
   "source": [
    "Внутрь этой функции можно подавать также питоновский кортеж `tuple`.\n",
    "\n",
    "Проверим, к какому типу относится массив `a`:"
   ]
  },
  {
   "cell_type": "code",
   "execution_count": 3,
   "metadata": {
    "colab": {
     "base_uri": "https://localhost:8080/"
    },
    "id": "6Qr9BM-OthPK",
    "outputId": "d2ca08d5-73f7-4b96-e3f9-dba32a40f3ff"
   },
   "outputs": [
    {
     "data": {
      "text/plain": [
       "numpy.ndarray"
      ]
     },
     "execution_count": 3,
     "metadata": {},
     "output_type": "execute_result"
    }
   ],
   "source": [
    "type(a)"
   ]
  },
  {
   "cell_type": "markdown",
   "metadata": {
    "id": "F4PxQlVOthPL"
   },
   "source": [
    "`ndarray` - сокращение от $n$-dimensional array ($n$-мерный массив).\n",
    "\n",
    "В отличие от стандартных питоновских структур данных, в `numpy` массивы предпочитают данные одного типа. Например, если функция `np.array` вызывается от списка, содержащего как целые (`int`), так и дробные (`float`) значения, то в результирующем массиве все значения будут приведены к типу `float`. Аналогично, если в подаваемом списке есть хотя бы одна строка `str`, то в соответствующем массиве все значения будут приведены к типу `str`. Если мы хотим задать свой тип, к которому нужно привести данные, это можно сделать с помощью аргумента `dtype`:"
   ]
  },
  {
   "cell_type": "code",
   "execution_count": 4,
   "metadata": {
    "colab": {
     "base_uri": "https://localhost:8080/"
    },
    "id": "qqAfUAYwthPL",
    "outputId": "3d6a73ce-62c1-4173-9db9-0784ea0b28f5"
   },
   "outputs": [
    {
     "name": "stdout",
     "output_type": "stream",
     "text": [
      "['1' '2' '3.6']\n"
     ]
    }
   ],
   "source": [
    "a = np.array([1, 2, 3.6], dtype=str)\n",
    "\n",
    "print(a)"
   ]
  },
  {
   "cell_type": "markdown",
   "metadata": {
    "id": "nG7ieboMthPM"
   },
   "source": [
    "Получить конкретный элемент массива можно теми же способами, что и в стандартных питоновских структурах данных - с помощью квадратных скобок. В `numpy`, как и во всём питоне, индексация начинается с нуля. Например, получить второй элемент из массива `a` (т.е. элемент с индексом $1$) можно так:"
   ]
  },
  {
   "cell_type": "code",
   "execution_count": 5,
   "metadata": {
    "colab": {
     "base_uri": "https://localhost:8080/",
     "height": 35
    },
    "id": "iAUdrRBMthPM",
    "outputId": "ec9fe8d8-b634-4952-9d1a-a68f380ef63b"
   },
   "outputs": [
    {
     "data": {
      "text/plain": [
       "'2'"
      ]
     },
     "execution_count": 5,
     "metadata": {},
     "output_type": "execute_result"
    }
   ],
   "source": [
    "a[1]"
   ]
  },
  {
   "cell_type": "markdown",
   "metadata": {
    "id": "I34orpMWthPN"
   },
   "source": [
    "[Текст ссылки](https://)Также в `numpy` массивах можно использовать отрицательную индексацию и делать срезы, как и в стандартных списках из питона:"
   ]
  },
  {
   "cell_type": "code",
   "execution_count": 6,
   "metadata": {
    "colab": {
     "base_uri": "https://localhost:8080/",
     "height": 35
    },
    "id": "GKFcbPwnthPN",
    "outputId": "1bb58989-3bc1-42a1-fdac-f60118a92906"
   },
   "outputs": [
    {
     "data": {
      "text/plain": [
       "'3.6'"
      ]
     },
     "execution_count": 6,
     "metadata": {},
     "output_type": "execute_result"
    }
   ],
   "source": [
    "a[-1]"
   ]
  },
  {
   "cell_type": "code",
   "execution_count": 7,
   "metadata": {
    "colab": {
     "base_uri": "https://localhost:8080/"
    },
    "id": "H2URlrYkthPO",
    "outputId": "233d85a7-45fe-4b5b-ec03-4a981458af1b"
   },
   "outputs": [
    {
     "data": {
      "text/plain": [
       "array(['2', '3.6'], dtype='<U3')"
      ]
     },
     "execution_count": 7,
     "metadata": {},
     "output_type": "execute_result"
    }
   ],
   "source": [
    "a[1:3]"
   ]
  },
  {
   "cell_type": "markdown",
   "metadata": {
    "id": "XBL42-z9thPP"
   },
   "source": [
    "### Двумерные массивы\n",
    "\n",
    "Пока что мы работали лишь с одномерными массивами. Также в `numpy` можно задать и многомерные массивы. Например, двумерный массив - это массив, каждый элемент из которого - это снова массив.\n",
    "\n",
    "Для `numpy`-массива `a` можно проверить его размерность с помощью атрибута `ndim` и форму с помощью атрибута `shape`:"
   ]
  },
  {
   "cell_type": "code",
   "execution_count": 8,
   "metadata": {
    "colab": {
     "base_uri": "https://localhost:8080/"
    },
    "id": "Sadr0q35thPP",
    "outputId": "654edc7b-af15-4abe-95f1-21a79077c2ec"
   },
   "outputs": [
    {
     "name": "stdout",
     "output_type": "stream",
     "text": [
      "Размерность a: 1\n",
      "Форма a: (3,)\n"
     ]
    }
   ],
   "source": [
    "print(\"Размерность a: {}\".format(a.ndim))\n",
    "\n",
    "print(\"Форма a: {}\".format(a.shape))"
   ]
  },
  {
   "cell_type": "markdown",
   "metadata": {
    "id": "sd5Bif_LthPQ"
   },
   "source": [
    "В этом случае размерность равна $1$, а `shape` возвращает кортеж из одного элемента. Зададим теперь двумерный массив:"
   ]
  },
  {
   "cell_type": "code",
   "execution_count": 9,
   "metadata": {
    "colab": {
     "base_uri": "https://localhost:8080/"
    },
    "id": "IszOgqFRGexN",
    "outputId": "78418053-a223-4468-d234-e4294e45a34a"
   },
   "outputs": [
    {
     "name": "stdout",
     "output_type": "stream",
     "text": [
      "[[1 2 3 1]\n",
      " [4 5 6 4]\n",
      " [7 8 9 7]]\n",
      "Размерность A: 2\n",
      "Форма A: (3, 4)\n"
     ]
    }
   ],
   "source": [
    "A = np.array([[1, 2, 3, 1], \n",
    "              [4, 5, 6, 4], \n",
    "              [7, 8, 9, 7]])\n",
    "\n",
    "print(A)\n",
    "\n",
    "print(\"Размерность A: {}\".format(A.ndim))\n",
    "\n",
    "print(\"Форма A: {}\".format(A.shape))"
   ]
  },
  {
   "cell_type": "markdown",
   "metadata": {
    "id": "6inedb8LthPQ"
   },
   "source": [
    "Атрибут `shape` - это всегда кортеж, размер которого равен размерности массива. Каждый элемент этого кортежа - это размер в каждом измерении. Например, у нашей матрицы $A$, судя по этому атрибуту, $3$ строки и $4$ столбца.\n",
    "\n",
    "С помощью атрибута `size` можно увидеть общее количество элементов массива:"
   ]
  },
  {
   "cell_type": "code",
   "execution_count": 10,
   "metadata": {
    "colab": {
     "base_uri": "https://localhost:8080/"
    },
    "id": "wqGfu4E9thPR",
    "outputId": "1b638dd4-48a3-47b6-a61f-757f63575f98"
   },
   "outputs": [
    {
     "data": {
      "text/plain": [
       "12"
      ]
     },
     "execution_count": 10,
     "metadata": {},
     "output_type": "execute_result"
    }
   ],
   "source": [
    "A.size"
   ]
  },
  {
   "cell_type": "markdown",
   "metadata": {
    "id": "o5pNyTamthPR"
   },
   "source": [
    "В случае вложенных друг в друга стандартных питоновских списков `list`, чтобы получить конкретный элемент массива, нужно использовать несколько пар квадратных скобок: `A[0][0]`. В `numpy` массивы также поддерживают такую запись, однако, здесь есть и более удобный вариант - просто писать индексы через запятую:"
   ]
  },
  {
   "cell_type": "code",
   "execution_count": 11,
   "metadata": {
    "colab": {
     "base_uri": "https://localhost:8080/"
    },
    "id": "7X2CuPvnthPS",
    "outputId": "238ccd6f-6b2e-4c09-df20-2c62cc9ae92e"
   },
   "outputs": [
    {
     "data": {
      "text/plain": [
       "1"
      ]
     },
     "execution_count": 11,
     "metadata": {},
     "output_type": "execute_result"
    }
   ],
   "source": [
    "A[0, 0]"
   ]
  },
  {
   "cell_type": "markdown",
   "metadata": {
    "id": "SxMW71_zthPS"
   },
   "source": [
    "Это же работает и в случае отрицательной индексации и в случае срезов:\n",
    "\n",
    "*   Новый пункт\n",
    "*   Новый пункт"
   ]
  },
  {
   "cell_type": "code",
   "execution_count": 12,
   "metadata": {
    "colab": {
     "base_uri": "https://localhost:8080/"
    },
    "id": "_mEm2-rqthPS",
    "outputId": "90b39893-0d36-46ca-8251-46560db6d50e"
   },
   "outputs": [
    {
     "data": {
      "text/plain": [
       "9"
      ]
     },
     "execution_count": 12,
     "metadata": {},
     "output_type": "execute_result"
    }
   ],
   "source": [
    "A[-1, -2]"
   ]
  },
  {
   "cell_type": "code",
   "execution_count": 13,
   "metadata": {
    "colab": {
     "base_uri": "https://localhost:8080/"
    },
    "id": "4asD4ujXthPT",
    "outputId": "1c898ebb-b5a9-4d9e-ac80-60a847c57845"
   },
   "outputs": [
    {
     "data": {
      "text/plain": [
       "array([[4, 5, 6],\n",
       "       [7, 8, 9]])"
      ]
     },
     "execution_count": 13,
     "metadata": {},
     "output_type": "execute_result"
    }
   ],
   "source": [
    "A[1:, :3]"
   ]
  },
  {
   "cell_type": "markdown",
   "metadata": {
    "id": "7qwaAs2uthPT"
   },
   "source": [
    "В случае срезов для `numpy`-массивов важно отметить, что, записывая срез `numpy`-массива, мы ничего нового не создаём, мы лишь получаем _представление_ (_view_) - ссылку на какие-то отдельные элементы оригинального массива. Это означает, что если мы \"создали\" срез из `numpy`-массива, а затем поменяли в нём что-то - эти изменения коснутся и оригинального массива:"
   ]
  },
  {
   "cell_type": "code",
   "execution_count": 14,
   "metadata": {
    "colab": {
     "base_uri": "https://localhost:8080/"
    },
    "id": "lmLhjtPathPU",
    "outputId": "cf4b3b9f-b3c7-47b3-c258-b565262356fc"
   },
   "outputs": [
    {
     "name": "stdout",
     "output_type": "stream",
     "text": [
      "[[1 2 3 1]\n",
      " [4 5 6 4]\n",
      " [7 8 9 7]]\n"
     ]
    }
   ],
   "source": [
    "print(A)"
   ]
  },
  {
   "cell_type": "code",
   "execution_count": 15,
   "metadata": {
    "colab": {
     "base_uri": "https://localhost:8080/"
    },
    "id": "VIDvY0u9thPU",
    "outputId": "15be4c8a-6ca3-493f-d6fa-a9db7642bd99"
   },
   "outputs": [
    {
     "name": "stdout",
     "output_type": "stream",
     "text": [
      "[[4 5 6]\n",
      " [7 8 9]]\n"
     ]
    }
   ],
   "source": [
    "B = A[1:, :3]\n",
    "\n",
    "print(B)"
   ]
  },
  {
   "cell_type": "code",
   "execution_count": 16,
   "metadata": {
    "colab": {
     "base_uri": "https://localhost:8080/"
    },
    "id": "5wOy_pF3thPU",
    "outputId": "015b5c4c-63a2-4678-f7a1-6acc85ec07ce"
   },
   "outputs": [
    {
     "name": "stdout",
     "output_type": "stream",
     "text": [
      "[[ 1  2  3  1]\n",
      " [-4  5  6  4]\n",
      " [ 7  8  9  7]]\n"
     ]
    }
   ],
   "source": [
    "B[0, 0] = -4\n",
    "\n",
    "print(A)"
   ]
  },
  {
   "cell_type": "markdown",
   "metadata": {
    "id": "cO3a-uf4thPV"
   },
   "source": [
    "Наоборот, если мы меняем значения в оригинальном массиве, они коснутся и всех его представлений, в которых используются эти значения:"
   ]
  },
  {
   "cell_type": "code",
   "execution_count": 17,
   "metadata": {
    "colab": {
     "base_uri": "https://localhost:8080/"
    },
    "id": "-MqrmpDvthPV",
    "outputId": "3817f4e1-131c-465d-ee62-e0a58d9374ce"
   },
   "outputs": [
    {
     "name": "stdout",
     "output_type": "stream",
     "text": [
      "[[-4  5  6]\n",
      " [-7  8  9]]\n"
     ]
    }
   ],
   "source": [
    "A[2, 0] = -7\n",
    "\n",
    "print(B)"
   ]
  },
  {
   "cell_type": "code",
   "execution_count": 18,
   "metadata": {
    "id": "zkn41Q-uGexs"
   },
   "outputs": [],
   "source": [
    "b = np.array([[3], \n",
    "     [1], \n",
    "     [2]])"
   ]
  },
  {
   "cell_type": "markdown",
   "metadata": {
    "id": "-jcsz7vtthPW"
   },
   "source": [
    "\n",
    "\n",
    "```\n",
    "# Выбран кодовый формат\n",
    "```\n",
    "\n",
    "Если мы хотим всего этого избежать и создать действительно новый массив, нужно использовать метод `copy`:"
   ]
  },
  {
   "cell_type": "code",
   "execution_count": 19,
   "metadata": {
    "colab": {
     "base_uri": "https://localhost:8080/"
    },
    "id": "8N-3_yrfthPW",
    "outputId": "86518ff4-82fd-4f0f-a315-504a93b57a17"
   },
   "outputs": [
    {
     "name": "stdout",
     "output_type": "stream",
     "text": [
      "[[6 4]\n",
      " [9 7]]\n"
     ]
    }
   ],
   "source": [
    "C = A[1:3, 2:4].copy()\n",
    "\n",
    "print(C)"
   ]
  },
  {
   "cell_type": "code",
   "execution_count": 20,
   "metadata": {
    "colab": {
     "base_uri": "https://localhost:8080/"
    },
    "id": "GiT0MIAVthPW",
    "outputId": "bcf85aa5-8411-4955-cd7b-ecc6e0f302b1"
   },
   "outputs": [
    {
     "name": "stdout",
     "output_type": "stream",
     "text": [
      "[[ 1  2  3  1]\n",
      " [-4  5  6  4]\n",
      " [-7  8  9  7]]\n"
     ]
    }
   ],
   "source": [
    "C[0, 0] = -6\n",
    "\n",
    "print(A)"
   ]
  },
  {
   "cell_type": "markdown",
   "metadata": {
    "id": "Em88AWjtthPX"
   },
   "source": [
    "### Типы данных в NumPy\n",
    "\n",
    "Самыми распространёнными типами в `numpy` являются два целочисленных типа: `np.int32` и `np.int64` и два дробных типа: `np.float32` и `np.float64`. Они применяются для, соответственно, $32$-битных и $64$-битных чисел. Последние требуют вдвое больше памяти, чем первые, однако, если вы знаете, что в вашем массиве, например, используются целые числа, которые по модулю больше, чем $2 \\cdot 10^9$, то стоит использовать `np.int64`."
   ]
  },
  {
   "cell_type": "markdown",
   "metadata": {},
   "source": [
    "### Операции с векторами"
   ]
  },
  {
   "cell_type": "code",
   "execution_count": 21,
   "metadata": {
    "colab": {
     "base_uri": "https://localhost:8080/",
     "height": 236
    },
    "id": "HcZGVj4OthPY",
    "outputId": "82025ae2-1f0d-431d-9087-ffc55cd81777"
   },
   "outputs": [],
   "source": [
    "a = np.array([0, 1, 2, 3, 4])\n",
    "b = np.array([5, 6, 7, 8, 9])"
   ]
  },
  {
   "cell_type": "markdown",
   "metadata": {
    "id": "d0abqihRthPY"
   },
   "source": [
    "Сейчас мы ограничимся случаем, когда все векторы имеют одинаковый размер.\n",
    "\n",
    "Сложение векторов можно выполнять, просто складывая массивы. Отметим, что это поведение отличается от сложения обычных питоновских списков `list`: списки в таком случае просто склеиваются в один."
   ]
  },
  {
   "cell_type": "code",
   "execution_count": 22,
   "metadata": {
    "colab": {
     "base_uri": "https://localhost:8080/"
    },
    "id": "aNHw35zbthPY",
    "outputId": "3f716d0a-9e09-4734-c340-9228f9695a5a"
   },
   "outputs": [
    {
     "name": "stdout",
     "output_type": "stream",
     "text": [
      "[0, 1, 2, 3, 4, 5, 6, 7, 8, 9]\n"
     ]
    }
   ],
   "source": [
    "a_ = [0, 1, 2, 3, 4]\n",
    "b_ = [5, 6, 7, 8, 9]\n",
    "\n",
    "c_ = a_ + b_\n",
    "\n",
    "print(c_)"
   ]
  },
  {
   "cell_type": "markdown",
   "metadata": {
    "id": "0bmrsGt7thPZ"
   },
   "source": [
    "В `numpy` же массивы в результате такой операции складываются поэлементно:"
   ]
  },
  {
   "cell_type": "code",
   "execution_count": 23,
   "metadata": {
    "colab": {
     "base_uri": "https://localhost:8080/",
     "height": 255
    },
    "id": "kOpWi1jDthPZ",
    "outputId": "7bc5d783-0fff-4455-c920-5d8afbe0e05e"
   },
   "outputs": [
    {
     "name": "stdout",
     "output_type": "stream",
     "text": [
      "[ 5  7  9 11 13]\n"
     ]
    }
   ],
   "source": [
    "c = a + b\n",
    "\n",
    "print(c)"
   ]
  },
  {
   "cell_type": "markdown",
   "metadata": {
    "id": "DOJDqX4MthPZ"
   },
   "source": [
    "Также массивы `numpy` можно складывать с помощью функции `np.add`:"
   ]
  },
  {
   "cell_type": "code",
   "execution_count": 24,
   "metadata": {
    "colab": {
     "base_uri": "https://localhost:8080/",
     "height": 255
    },
    "id": "Qi9zqLQlthPZ",
    "outputId": "e7218949-d4e9-4369-9867-f080ac5544a6"
   },
   "outputs": [
    {
     "name": "stdout",
     "output_type": "stream",
     "text": [
      "[ 5  7  9 11 13]\n"
     ]
    }
   ],
   "source": [
    "c = np.add(a, b)\n",
    "\n",
    "print(c)"
   ]
  },
  {
   "cell_type": "markdown",
   "metadata": {
    "id": "rwmauSG1thPa"
   },
   "source": [
    "Аналогично, есть два способа вычитать векторы друг из друга:\n",
    "\n",
    "* `d = a - b`\n",
    "* `d = np.subtract(a, b)`"
   ]
  },
  {
   "cell_type": "markdown",
   "metadata": {
    "id": "jTYY6xI4thPa"
   },
   "source": [
    "Для умножения вектора на скаляр также можно пользоваться достаточно естественной записью:"
   ]
  },
  {
   "cell_type": "code",
   "execution_count": 25,
   "metadata": {
    "id": "6ilgtur4thPa"
   },
   "outputs": [
    {
     "name": "stdout",
     "output_type": "stream",
     "text": [
      "[ 0  3  6  9 12]\n"
     ]
    }
   ],
   "source": [
    "e = a * 3\n",
    "\n",
    "print(e)"
   ]
  },
  {
   "cell_type": "markdown",
   "metadata": {
    "id": "XXDchja5thPb"
   },
   "source": [
    "При этом скаляр может быть каким угодно. При умножении на скаляр, каждая координата вектора умножается на этот скаляр.\n",
    "\n",
    "Это поведение тоже отличается от поведения питоновских списков `list` при умножении на число. Последние при этом дублируются заданное количество раз. Скаляр здесь, кроме того, может быть только положительным целым."
   ]
  },
  {
   "cell_type": "code",
   "execution_count": 26,
   "metadata": {
    "id": "9DnoHQzRthPb"
   },
   "outputs": [
    {
     "data": {
      "text/plain": [
       "[1, 2, 3, 1, 2, 3, 1, 2, 3]"
      ]
     },
     "execution_count": 26,
     "metadata": {},
     "output_type": "execute_result"
    }
   ],
   "source": [
    "[1, 2, 3] * 3"
   ]
  },
  {
   "cell_type": "markdown",
   "metadata": {
    "id": "yBxXklFKthPb"
   },
   "source": [
    "Вот ещё несколько способов умножить вектор на скаляр в `numpy`:\n",
    "\n",
    "* с помощью функции `np.multiply`: `e = np.multiply(a, 3)`\n",
    "* с помощью функции `np.dot`: `e = np.dot(a, 3)`\n",
    "* с помощью метода `a.dot`, который есть у любого `numpy`-массива: `e = a.dot(3)`"
   ]
  },
  {
   "cell_type": "markdown",
   "metadata": {
    "id": "Yda3QAR-thPc"
   },
   "source": [
    "Функция `np.dot` (так же, как и метод `a.dot`), кроме того, может вычислять скалярное произведение векторов, а также произведение матриц (об этом чуть позже). \n",
    "\n",
    "Посчитаем скалярное произведение векторов `a` и `b`. Напомним, что чтобы вычислить скалярное произведение двух векторов, нужно попарно перемножить их координаты (первую с первой, вторую со второй и т.д.), а затем сложить результаты."
   ]
  },
  {
   "cell_type": "code",
   "execution_count": 27,
   "metadata": {
    "id": "hYyaHVWXthPc"
   },
   "outputs": [
    {
     "name": "stdout",
     "output_type": "stream",
     "text": [
      "80\n"
     ]
    }
   ],
   "source": [
    "sp = a.dot(b)\n",
    "\n",
    "print(sp)"
   ]
  },
  {
   "cell_type": "markdown",
   "metadata": {
    "id": "ZrUykZfQthPc"
   },
   "source": [
    "Также скалярное произведение векторов можно вычислять с помощью оператора `@`:"
   ]
  },
  {
   "cell_type": "code",
   "execution_count": 28,
   "metadata": {
    "id": "peR3B85lthPd"
   },
   "outputs": [
    {
     "name": "stdout",
     "output_type": "stream",
     "text": [
      "80\n"
     ]
    }
   ],
   "source": [
    "sp = a @ b\n",
    "\n",
    "print(sp)"
   ]
  },
  {
   "cell_type": "markdown",
   "metadata": {
    "id": "eM3PjpO4thPd"
   },
   "source": [
    "### Матрицы\n",
    "\n",
    "Разберёмся теперь, как в `numpy` работать с матрицами. Зададим пару матриц:"
   ]
  },
  {
   "cell_type": "code",
   "execution_count": 29,
   "metadata": {
    "id": "pNqzT15pthPd"
   },
   "outputs": [],
   "source": [
    "A = np.array([[0, 1],\n",
    "              [2, 3],\n",
    "              [4, 5]])\n",
    "\n",
    "B = np.array([[6, 7],\n",
    "              [8, 9],\n",
    "              [10, 11]])"
   ]
  },
  {
   "cell_type": "markdown",
   "metadata": {
    "id": "XJd2E4s-thPe"
   },
   "source": [
    "Матрицы одинакового размера можно складывать и вычитать. Как и с векторами, это можно делать с помощью операторов `+` и `-`, а также с помощью функций `np.add` и `np.subtract`."
   ]
  },
  {
   "cell_type": "code",
   "execution_count": 30,
   "metadata": {
    "id": "lBdx7iFRthPe"
   },
   "outputs": [
    {
     "name": "stdout",
     "output_type": "stream",
     "text": [
      "[[ 6  8]\n",
      " [10 12]\n",
      " [14 16]]\n"
     ]
    }
   ],
   "source": [
    "C = A + B\n",
    "\n",
    "print(C)"
   ]
  },
  {
   "cell_type": "code",
   "execution_count": 31,
   "metadata": {
    "id": "JmYW2i1ethPe"
   },
   "outputs": [
    {
     "name": "stdout",
     "output_type": "stream",
     "text": [
      "[[-6 -6]\n",
      " [-6 -6]\n",
      " [-6 -6]]\n"
     ]
    }
   ],
   "source": [
    "D = A - B\n",
    "\n",
    "print(D)"
   ]
  },
  {
   "cell_type": "markdown",
   "metadata": {
    "id": "ZuA8KISDthPf"
   },
   "source": [
    "Матрицу любого размера можно умножать на скаляр. Делается это так же, как и в случае векторов:"
   ]
  },
  {
   "cell_type": "code",
   "execution_count": 32,
   "metadata": {
    "id": "Ih_D0uYTthPf"
   },
   "outputs": [
    {
     "name": "stdout",
     "output_type": "stream",
     "text": [
      "[[ 0  3]\n",
      " [ 6  9]\n",
      " [12 15]]\n"
     ]
    }
   ],
   "source": [
    "E = A * 3\n",
    "\n",
    "print(E)"
   ]
  },
  {
   "cell_type": "markdown",
   "metadata": {
    "id": "pwx3FhOwthPg"
   },
   "source": [
    "### Умножение матриц\n",
    "\n",
    "Матрицы $A$ и $B$ можно умножить друг на друга, если _число столбцов_ первой матрицы равняется _числу строк_ второй матрицы. То есть если $A$ - матрица размера $n \\times k$, то матрица $B$ должна иметь размер $k \\times m$ для некоторого $m$.\n",
    "\n",
    "В таком случае результатом умножения будет матрица $C$ размера $n \\times m$ (т.е. у неё будет строк как у первой матрицы, а столбцов - как у второй).\n",
    "\n",
    "Рассмотрим простейший случай: умножение строки (матрицы размера $1 \\times k$) на столбец (матрицу размера $k \\times 1$). Как мы уже выяснили, в результате получится матрица размера $1 \\times 1$, т.е. число. Что это за число?\n",
    "\n",
    "Чтобы посчитать это число, нужно элементы из строки и столбца попарно перемножить (первый с первым, второй со вторым и т.д.), а затем сложить результаты. Это очень похоже на скалярное произведение векторов.\n",
    "\n",
    "Например, \n",
    "\n",
    "$$\n",
    "\\left(\n",
    "\\begin{matrix}\n",
    "    1 & 2 & 3\n",
    "\\end{matrix}\n",
    "\\right)\n",
    "\\cdot\n",
    "\\left(\n",
    "\\begin{matrix}\n",
    "    1 \\\\\n",
    "    0 \\\\\n",
    "    -1\n",
    "\\end{matrix}\n",
    "\\right)\n",
    "= 1 \\cdot 1 + 2 \\cdot 0 + 3 \\cdot (-1)\n",
    "= -2.\n",
    "$$\n",
    "\n",
    "Вернёмся к общему случаю - умножению матрицы размера $n \\times k$ на матрицу размера $k \\times m$. Мы уже поняли, что это будет матрица размера $n \\times m$. Как \"заполнить\" эту матрицу?\n",
    "\n",
    "Чтобы получить число, стоящее в этой матрице на позиции $(i, j)$, нужно умножить $i$-ю строку первой матрицы на $j$-й столбец второй матрицы (так, как мы это делали выше).\n",
    "\n",
    "Например,\n",
    "\n",
    "$$\n",
    "\\left(\n",
    "\\begin{matrix}\n",
    "    1 & 0 & -1 \\\\\n",
    "    3 & 5 & -4 \n",
    "\\end{matrix}\n",
    "\\right)\n",
    "\\cdot\n",
    "\\left(\n",
    "\\begin{matrix}\n",
    "    1 & 2 & 3 \\\\\n",
    "    4 & 5 & 6 \\\\\n",
    "    7 & 8 & 9\n",
    "\\end{matrix}\n",
    "\\right)\n",
    "=\n",
    "\\left(\n",
    "\\begin{matrix}\n",
    "    1 \\cdot 1 + 0 \\cdot 4 + (-1) \\cdot 7 & 1 \\cdot 2 + 0 \\cdot 5 + (-1) \\cdot 8 & 1 \\cdot 3 + 0 \\cdot 6 + (-1) \\cdot 9 \\\\\n",
    "    3 \\cdot 1 + 5 \\cdot 4 + (-4) \\cdot 7 & 3 \\cdot 2 + 5 \\cdot 5 + (-4) \\cdot 8 & 3 \\cdot 3 + 5 \\cdot 6 + (-4) \\cdot 9\n",
    "\\end{matrix}\n",
    "\\right)\n",
    "=\n",
    "$$\n",
    "\n",
    "$$\n",
    "=\n",
    "\\left(\n",
    "\\begin{matrix}\n",
    "    -6 & -6 & -6 \\\\\n",
    "    -5 & -1 & 3\n",
    "\\end{matrix}\n",
    "\\right).\n",
    "$$"
   ]
  },
  {
   "cell_type": "markdown",
   "metadata": {
    "id": "OKxTJmNzthPh"
   },
   "source": [
    "Чтобы выполнять умножение матриц в библиотеке `numpy`, будем пользоваться уже знакомой функцией `np.dot`, либо методом `A.dot`:"
   ]
  },
  {
   "cell_type": "code",
   "execution_count": 33,
   "metadata": {
    "colab": {
     "base_uri": "https://localhost:8080/",
     "height": 231
    },
    "id": "p7n4ORR_thPi",
    "outputId": "355499ea-4b67-41d8-ff02-80ddfee4a050"
   },
   "outputs": [
    {
     "name": "stdout",
     "output_type": "stream",
     "text": [
      "[[-6 -6 -6]\n",
      " [-5 -1  3]]\n"
     ]
    }
   ],
   "source": [
    "A = np.array([[1, 0, -1],\n",
    "              [3, 5, -4]])\n",
    "\n",
    "B = np.array([[1, 2, 3],\n",
    "              [4, 5, 6],\n",
    "              [7, 8, 9]])\n",
    "\n",
    "C = A.dot(B)\n",
    "\n",
    "print(C)"
   ]
  },
  {
   "cell_type": "markdown",
   "metadata": {
    "id": "-rPVgpmgthPj"
   },
   "source": [
    "Если перемножаемые матрицы являются квадратными, то результат их умножения будет снова квадратной матрицей, причём, того же размера. Это означает, что квадратную матрицу можно возводить в степень. В `numpy` это можно делать с помощью функции `matrix_power` из модуля `numpy.linalg`:"
   ]
  },
  {
   "cell_type": "code",
   "execution_count": 34,
   "metadata": {
    "colab": {
     "base_uri": "https://localhost:8080/",
     "height": 197
    },
    "id": "WEXuHqOAthPj",
    "outputId": "68cc54b5-3a33-4476-a66b-f7669e190a73"
   },
   "outputs": [
    {
     "name": "stdout",
     "output_type": "stream",
     "text": [
      "[[ 468  576  684]\n",
      " [1062 1305 1548]\n",
      " [1656 2034 2412]]\n"
     ]
    }
   ],
   "source": [
    "D = np.linalg.matrix_power(B, 3)\n",
    "\n",
    "print(D)"
   ]
  },
  {
   "cell_type": "markdown",
   "metadata": {
    "id": "-ibAxtnYthPk"
   },
   "source": [
    "### Единичная и транспонированная матрица\n",
    "\n",
    "_Единичной матрицей_ называется квадратная матрица, у которого на главной диагонали стоят $1$, а в остальных местах - $0$. (Под _главной диагональю_ мы понимаем диагональ матрицы, которая начинается в левом верхнем углу и заканчивается в правом нижнем.) Единичную матрицу можно задать с помощью функции `np.eye`:"
   ]
  },
  {
   "cell_type": "code",
   "execution_count": 35,
   "metadata": {
    "id": "YmPp7IpGthPk"
   },
   "outputs": [
    {
     "name": "stdout",
     "output_type": "stream",
     "text": [
      "[[1. 0. 0.]\n",
      " [0. 1. 0.]\n",
      " [0. 0. 1.]]\n"
     ]
    }
   ],
   "source": [
    "I = np.eye(3)\n",
    "\n",
    "print(I)"
   ]
  },
  {
   "cell_type": "markdown",
   "metadata": {
    "id": "vL6TrYFnthPl"
   },
   "source": [
    "При умножении любой матрицы на единичную матрицу подходящего размера, результатом будет та же самая матрица:"
   ]
  },
  {
   "cell_type": "code",
   "execution_count": 36,
   "metadata": {
    "id": "GXi5i0GpthPl"
   },
   "outputs": [
    {
     "name": "stdout",
     "output_type": "stream",
     "text": [
      "[[ 1  0 -1]\n",
      " [ 3  5 -4]]\n"
     ]
    }
   ],
   "source": [
    "print(A)"
   ]
  },
  {
   "cell_type": "code",
   "execution_count": 37,
   "metadata": {
    "id": "fB5mJe8OthPm"
   },
   "outputs": [
    {
     "name": "stdout",
     "output_type": "stream",
     "text": [
      "[[ 1.  0. -1.]\n",
      " [ 3.  5. -4.]]\n"
     ]
    }
   ],
   "source": [
    "E = A.dot(I)\n",
    "\n",
    "print(E)"
   ]
  },
  {
   "cell_type": "markdown",
   "metadata": {
    "id": "3GB2WXuothPm"
   },
   "source": [
    "Пусть дана матрица $A$. _Транспонированной матрицей_ называется матрица $A^\\top$, полученная \"отражением\" матрицы $A$ относительно её главной диагонали. Другими словами, столбцы матрицы $A$ становятся строками матрицы $A^\\top$, а строки матрицы $A$ - столбцами матрицы $A^\\top$.\n",
    "\n",
    "Вот несколько способов посчитать транспонированную матрицу в `numpy`:\n",
    "\n",
    "* с помощью функции `np.transpose`: `A_t = np.transpose(A)`\n",
    "* с помощью метода `A.transpose`: `A_t = A.transpose()`\n",
    "* с помощью атрибута `A.T`: `A_t = A.T`"
   ]
  },
  {
   "cell_type": "code",
   "execution_count": 38,
   "metadata": {
    "id": "mHXX8oArthPm"
   },
   "outputs": [
    {
     "name": "stdout",
     "output_type": "stream",
     "text": [
      "[[ 1  3]\n",
      " [ 0  5]\n",
      " [-1 -4]]\n"
     ]
    }
   ],
   "source": [
    "A_t = A.T\n",
    "\n",
    "print(A_t)"
   ]
  },
  {
   "cell_type": "markdown",
   "metadata": {
    "id": "2fAbQoI-thPn"
   },
   "source": [
    "### Определитель и ранг матрицы\n",
    "\n",
    "Если матрица квадратная, то мы можем посчитать её _определитель_. Определитель матрицы - это число, которое в каком-то смысле \"определяет\" её свойства. Например, обратную матрицу можно посчитать только для матрицы, определитель которой не равен $0$ (по аналогии с тем, что делить можно только на числа, не равные $0$).\n",
    "\n",
    "Посчитать определитель можно с помощью функции `det` из модуля `numpy.linalg`:"
   ]
  },
  {
   "cell_type": "code",
   "execution_count": 39,
   "metadata": {
    "id": "qr8L2t2uthPn"
   },
   "outputs": [
    {
     "name": "stdout",
     "output_type": "stream",
     "text": [
      "-9.51619735392994e-16\n"
     ]
    }
   ],
   "source": [
    "d = np.linalg.det(B)\n",
    "\n",
    "print(d)"
   ]
  },
  {
   "cell_type": "markdown",
   "metadata": {
    "id": "R2jQPh2ythPn"
   },
   "source": [
    "Также с помощью функции `matrix_rank` из модуля `numpy.linalg` можно посчитать _ранг_ матрицы. Ранг матрицы - это число линейно независимых строк данной матрицы."
   ]
  },
  {
   "cell_type": "code",
   "execution_count": 40,
   "metadata": {
    "id": "_Ltq-ONHthPo"
   },
   "outputs": [
    {
     "name": "stdout",
     "output_type": "stream",
     "text": [
      "2\n"
     ]
    }
   ],
   "source": [
    "r = np.linalg.matrix_rank(B)\n",
    "\n",
    "print(r)"
   ]
  },
  {
   "cell_type": "markdown",
   "metadata": {
    "id": "yuxnPDZMthPo"
   },
   "source": [
    "Если матрица квадратная, то её ранг и определитель связаны следующим образом: определитель матрицы отличен от $0$ тогда и только тогда, когда все её строки являются линейно независимыми. Это, в свою очередь, означает, что её ранг равен её размеру.\n",
    "\n",
    "Например, ранг матрицы $B$ из примера выше равен $2$, при этом её размер равен $3$. Это значит, что не все её строки являются линейно независимыми, поэтому её определитель равен $0$.\n",
    "\n",
    "В отличие от определителя, ранг можно считать и для матрицы, которая не является квадратной. Посчитаем ранг матрицы $A$ размера $2 \\times 3$, определённой выше:"
   ]
  },
  {
   "cell_type": "code",
   "execution_count": 41,
   "metadata": {
    "id": "eDTyrb4hthPo"
   },
   "outputs": [
    {
     "name": "stdout",
     "output_type": "stream",
     "text": [
      "2\n"
     ]
    }
   ],
   "source": [
    "r1 = np.linalg.matrix_rank(A)\n",
    "\n",
    "print(r1)"
   ]
  },
  {
   "cell_type": "markdown",
   "metadata": {
    "id": "JPxQNqidthPp"
   },
   "source": [
    "Итак, если определитель квадратной матрицы не равен $0$, то мы можем посчитать для неё _обратную матрицу_. Это матрица, которая при умножении на исходную матрицу даёт единичную матрицу:\n",
    "\n",
    "$$A \\cdot A^{-1} = I$$\n",
    "\n",
    "Обратную матрицу можно посчитать с помощью функции `inv` из модуля `numpy.linalg`:"
   ]
  },
  {
   "cell_type": "code",
   "execution_count": 42,
   "metadata": {
    "id": "TMaBO2i_thPp"
   },
   "outputs": [
    {
     "name": "stdout",
     "output_type": "stream",
     "text": [
      "85.99999999999997\n"
     ]
    }
   ],
   "source": [
    "F = np.array([[7, 4, 5],\n",
    "              [8, 3, 2],\n",
    "              [6, 10, 12]])\n",
    "\n",
    "print(np.linalg.det(F))"
   ]
  },
  {
   "cell_type": "code",
   "execution_count": 43,
   "metadata": {
    "id": "OQpTByg_thPq"
   },
   "outputs": [
    {
     "name": "stdout",
     "output_type": "stream",
     "text": [
      "[[ 0.18604651  0.02325581 -0.08139535]\n",
      " [-0.97674419  0.62790698  0.30232558]\n",
      " [ 0.72093023 -0.53488372 -0.12790698]]\n"
     ]
    }
   ],
   "source": [
    "F_inv = np.linalg.inv(F)\n",
    "\n",
    "print(F_inv)"
   ]
  },
  {
   "cell_type": "markdown",
   "metadata": {
    "id": "b5pW7dPpthPq"
   },
   "source": [
    "Проверим, что условие действительно выполняется:"
   ]
  },
  {
   "cell_type": "code",
   "execution_count": 44,
   "metadata": {
    "id": "MpStp0QhthPq"
   },
   "outputs": [
    {
     "name": "stdout",
     "output_type": "stream",
     "text": [
      "[[ 1.00000000e+00  0.00000000e+00  1.11022302e-16]\n",
      " [-2.22044605e-16  1.00000000e+00  0.00000000e+00]\n",
      " [-4.44089210e-16  0.00000000e+00  1.00000000e+00]]\n"
     ]
    }
   ],
   "source": [
    "print(F.dot(F_inv))"
   ]
  },
  {
   "cell_type": "markdown",
   "metadata": {
    "id": "dI8hzKc6thPr"
   },
   "source": [
    "Если определитель матрицы $A$ равен $d$, то определитель обратной матрицы всегда будет равен $1/d$. Именно поэтому матрицы с определителем, равным $0$, обращать нельзя."
   ]
  },
  {
   "cell_type": "code",
   "execution_count": 45,
   "metadata": {
    "id": "Iq2eP-3jthPr"
   },
   "outputs": [
    {
     "name": "stdout",
     "output_type": "stream",
     "text": [
      "1.0\n"
     ]
    }
   ],
   "source": [
    "F_d = np.linalg.det(F)\n",
    "\n",
    "F_inv_d = np.linalg.det(F_inv)\n",
    "\n",
    "print(F_d * F_inv_d)"
   ]
  },
  {
   "cell_type": "markdown",
   "metadata": {
    "id": "LCJIyWkRthPr"
   },
   "source": [
    "## Генерирование массивов с заданными свойствами\n",
    "\n",
    "Здесь мы рассмотрим способы задавать массивы различных размеров.\n",
    "\n",
    "Функция `np.zeros` позволяет создать массив любой формы, состоящий из нулей:"
   ]
  },
  {
   "cell_type": "code",
   "execution_count": 46,
   "metadata": {
    "colab": {
     "base_uri": "https://localhost:8080/",
     "height": 198
    },
    "id": "B3aZEfNithPr",
    "outputId": "381ea28e-b7bb-4fdd-d9f8-98b25a877e98"
   },
   "outputs": [
    {
     "name": "stdout",
     "output_type": "stream",
     "text": [
      "[[0. 0. 0. 0.]\n",
      " [0. 0. 0. 0.]\n",
      " [0. 0. 0. 0.]]\n"
     ]
    }
   ],
   "source": [
    "a = np.zeros((3, 4))\n",
    "\n",
    "print(a)"
   ]
  },
  {
   "cell_type": "markdown",
   "metadata": {
    "id": "9gn6XuaTthPs"
   },
   "source": [
    "Аналогично, функция `np.ones` вернёт массив заданной формы, состоящий из единиц:"
   ]
  },
  {
   "cell_type": "code",
   "execution_count": 47,
   "metadata": {
    "colab": {
     "base_uri": "https://localhost:8080/",
     "height": 195
    },
    "id": "1M7Mb9gythPs",
    "outputId": "3680a163-afda-416f-8cae-af335747c944"
   },
   "outputs": [
    {
     "name": "stdout",
     "output_type": "stream",
     "text": [
      "[[1. 1. 1. 1.]\n",
      " [1. 1. 1. 1.]\n",
      " [1. 1. 1. 1.]]\n"
     ]
    }
   ],
   "source": [
    "b = np.ones((3, 4))\n",
    "\n",
    "print(b)"
   ]
  },
  {
   "cell_type": "markdown",
   "metadata": {
    "id": "lmT-UGPethPs"
   },
   "source": [
    "Последовательности чисел можно создавать с помощью функции `np.arange`. Вот три способа использовать эту функцию:\n",
    "\n",
    "* Если задать только один аргумент, то вернётся последовательность чисел от $0$ до этого аргумента невключительно:"
   ]
  },
  {
   "cell_type": "code",
   "execution_count": 48,
   "metadata": {
    "colab": {
     "base_uri": "https://localhost:8080/",
     "height": 198
    },
    "id": "qq1kfiCxthPt",
    "outputId": "1aff0158-d743-4cc7-efe6-327e5470f41c"
   },
   "outputs": [
    {
     "name": "stdout",
     "output_type": "stream",
     "text": [
      "[0 1 2 3 4 5 6 7 8 9]\n"
     ]
    }
   ],
   "source": [
    "ar1 = np.arange(10)\n",
    "\n",
    "print(ar1)"
   ]
  },
  {
   "cell_type": "markdown",
   "metadata": {
    "id": "os47fmjIthPt"
   },
   "source": [
    "* Если подать два аргумента, то вернётся последовательность чисел от первого аргумента до второго (включая первый, не включая второй):"
   ]
  },
  {
   "cell_type": "code",
   "execution_count": 49,
   "metadata": {
    "id": "rAHxAIVtthPt"
   },
   "outputs": [
    {
     "name": "stdout",
     "output_type": "stream",
     "text": [
      "[ 2  3  4  5  6  7  8  9 10 11 12]\n"
     ]
    }
   ],
   "source": [
    "ar2 = np.arange(2, 13)\n",
    "\n",
    "print(ar2)"
   ]
  },
  {
   "cell_type": "markdown",
   "metadata": {
    "id": "xDLo8X4SthPu"
   },
   "source": [
    "* Если подать три аргумента, то третий аргумент будет обозначать шаг, с которым берутся числа в последовательности:"
   ]
  },
  {
   "cell_type": "code",
   "execution_count": 50,
   "metadata": {
    "id": "v2b5w_cythPu"
   },
   "outputs": [
    {
     "name": "stdout",
     "output_type": "stream",
     "text": [
      "[ 2  4  6  8 10 12]\n"
     ]
    }
   ],
   "source": [
    "ar3 = np.arange(2, 13, 2)\n",
    "\n",
    "print(ar3)"
   ]
  },
  {
   "cell_type": "markdown",
   "metadata": {
    "id": "zZB-d37HthPu"
   },
   "source": [
    "Отметим, что шаг в функции `np.arange` может быть дробным:"
   ]
  },
  {
   "cell_type": "code",
   "execution_count": 51,
   "metadata": {
    "id": "IUVweutithPv"
   },
   "outputs": [
    {
     "name": "stdout",
     "output_type": "stream",
     "text": [
      "[2.  2.1 2.2 2.3 2.4 2.5 2.6 2.7 2.8 2.9]\n"
     ]
    }
   ],
   "source": [
    "ar4 = np.arange(2, 3, 0.1)\n",
    "\n",
    "print(ar4)"
   ]
  },
  {
   "cell_type": "markdown",
   "metadata": {
    "id": "u76hzfxWthPv"
   },
   "source": [
    "Если шаг отрицательный, то последовательность будет возвращена в обратном порядке:"
   ]
  },
  {
   "cell_type": "code",
   "execution_count": 52,
   "metadata": {
    "id": "AdVzi0gcthPw"
   },
   "outputs": [
    {
     "name": "stdout",
     "output_type": "stream",
     "text": [
      "[3.  2.9 2.8 2.7 2.6 2.5 2.4 2.3 2.2 2.1]\n"
     ]
    }
   ],
   "source": [
    "ar5 = np.arange(3, 2, -0.1)\n",
    "\n",
    "print(ar5)"
   ]
  },
  {
   "cell_type": "markdown",
   "metadata": {
    "id": "mgSHoNtdthPw"
   },
   "source": [
    "Ещё одна полезная функция здесь - это функция `np.linspace`. Она позволяет вернуть заданное количество значений, равномерно расставленных между заданными началом и концом отрезка. Отметим, что здесь и левый, и првый концы отрезка включаются в массив:"
   ]
  },
  {
   "cell_type": "code",
   "execution_count": 53,
   "metadata": {
    "id": "h4KVWJBqthPw"
   },
   "outputs": [
    {
     "name": "stdout",
     "output_type": "stream",
     "text": [
      "[2.         2.11111111 2.22222222 2.33333333 2.44444444 2.55555556\n",
      " 2.66666667 2.77777778 2.88888889 3.        ]\n"
     ]
    }
   ],
   "source": [
    "c = np.linspace(2, 3, 10)\n",
    "\n",
    "print(c)"
   ]
  },
  {
   "cell_type": "markdown",
   "metadata": {
    "id": "moPlF9anthPw"
   },
   "source": [
    "Функция `np.logspace` имеет похожий эффект, отличие лишь в том, что в качестве начала и конца отрезка мы подаём не сами числа, а степени числа $10$. Например, в ячейке ниже мы задаём массив, содержащий $4$ значения, расставленных равномерно в пределах от $10^0 = 1$ до $10^3 = 1000$."
   ]
  },
  {
   "cell_type": "code",
   "execution_count": 54,
   "metadata": {
    "id": "ZRR86k_ethPx"
   },
   "outputs": [
    {
     "name": "stdout",
     "output_type": "stream",
     "text": [
      "[   1.   10.  100. 1000.]\n"
     ]
    }
   ],
   "source": [
    "d = np.logspace(0, 3, 4)\n",
    "\n",
    "print(d)"
   ]
  },
  {
   "cell_type": "markdown",
   "metadata": {
    "id": "ksto-Jf1thPx"
   },
   "source": [
    "### Массивы случайных значений"
   ]
  },
  {
   "cell_type": "markdown",
   "metadata": {
    "id": "nGtjLhL-thPx"
   },
   "source": [
    "Функция `sample` из модуля `numpy.random` возвращает массив заданной формы, состоящий из чисел, взятых из равномерного распределения на отрезке $[0, 1)$."
   ]
  },
  {
   "cell_type": "code",
   "execution_count": 55,
   "metadata": {
    "id": "H_Fp-3GYthPx"
   },
   "outputs": [
    {
     "name": "stdout",
     "output_type": "stream",
     "text": [
      "[[0.20691838 0.27717055 0.94751153 0.17850731]\n",
      " [0.1140571  0.15780823 0.25242265 0.02259075]\n",
      " [0.89343722 0.6065849  0.83363851 0.48893723]]\n"
     ]
    }
   ],
   "source": [
    "a = np.random.sample((3, 4))\n",
    "\n",
    "print(a)"
   ]
  },
  {
   "cell_type": "markdown",
   "metadata": {
    "id": "m08Bvc-sthPy"
   },
   "source": [
    "Отметим, что в эту и другие представленные ниже функции можно подавать также не кортеж, а какое-то одно целое число. В этом случае вернётся одномерный массив заданного размера. Также в эти функции можно не подавать аргументы вовсе - в этом случае вернётся лишь одно число."
   ]
  },
  {
   "cell_type": "code",
   "execution_count": 56,
   "metadata": {
    "id": "7_sMDl1AthPy"
   },
   "outputs": [
    {
     "name": "stdout",
     "output_type": "stream",
     "text": [
      "Одно значение: 0.5926690352536381\n",
      "Три значения: [0.38209553 0.2571937  0.34922992]\n"
     ]
    }
   ],
   "source": [
    "print(\"Одно значение: {}\".format(np.random.sample()))\n",
    "\n",
    "print(\"Три значения: {}\".format(np.random.sample(3)))"
   ]
  },
  {
   "cell_type": "markdown",
   "metadata": {
    "id": "Cr2BlGfcthPy"
   },
   "source": [
    "Функция `randn` из модуля `numpy.random` возвращает аналогичный массив, но уже взятый из нормального распределения (со средним $0$ и среднеквадратическим отклонением $1$):"
   ]
  },
  {
   "cell_type": "code",
   "execution_count": 57,
   "metadata": {
    "id": "UFbnnGwfthPz"
   },
   "outputs": [
    {
     "name": "stdout",
     "output_type": "stream",
     "text": [
      "[[-0.41691347 -0.07556481  1.43240746 -0.05961375]\n",
      " [-0.70692721 -0.28491981  0.2037674   1.56064524]\n",
      " [ 1.03852182 -0.04385046  0.60046454 -0.73711777]]\n"
     ]
    }
   ],
   "source": [
    "b = np.random.randn(3, 4)\n",
    "\n",
    "print(b)"
   ]
  },
  {
   "cell_type": "markdown",
   "metadata": {
    "id": "ZfJCMDT3thPz"
   },
   "source": [
    "Обратите внимание, что эта функция получает на вход не кортеж `tuple`, а просто последовательность размеров по каждому измерению.\n",
    "\n",
    "Функция `randint` возвращает массив из целых чисел в указанном диапазоне:"
   ]
  },
  {
   "cell_type": "code",
   "execution_count": 58,
   "metadata": {
    "id": "tOLqeBljthPz"
   },
   "outputs": [
    {
     "name": "stdout",
     "output_type": "stream",
     "text": [
      "[[64 17 35 64]\n",
      " [90 28 37 58]\n",
      " [ 4 20 69 30]]\n"
     ]
    }
   ],
   "source": [
    "c = np.random.randint(0, 100, (3, 4))\n",
    "\n",
    "print(c)"
   ]
  },
  {
   "cell_type": "markdown",
   "metadata": {
    "id": "ccQH6WwVthP0"
   },
   "source": [
    "Функция `choice` возвращает случайно выбранные элементы из заранее заданного массива:"
   ]
  },
  {
   "cell_type": "code",
   "execution_count": 59,
   "metadata": {
    "id": "TJFt10kSthP0"
   },
   "outputs": [
    {
     "name": "stdout",
     "output_type": "stream",
     "text": [
      "[[-10 -10  -4  -8]\n",
      " [ -5  -7 -10  -2]\n",
      " [ -3  -1  -1  -7]]\n"
     ]
    }
   ],
   "source": [
    "A = np.arange(-10, 0)\n",
    "\n",
    "d = np.random.choice(A, (3, 4))\n",
    "\n",
    "print(d)"
   ]
  },
  {
   "cell_type": "markdown",
   "metadata": {
    "id": "VypbgbN0thP0"
   },
   "source": [
    "### Изменение размеров массива\n",
    "\n",
    "Библиотека `numpy` предоставляет функционал для удобного изменения размера массивов.\n",
    "\n",
    "Например, рассмотрим одномерный массив с $12$ элементами:"
   ]
  },
  {
   "cell_type": "code",
   "execution_count": 60,
   "metadata": {
    "colab": {
     "base_uri": "https://localhost:8080/",
     "height": 198
    },
    "id": "58rIqnFIthP0",
    "outputId": "808fae72-f25f-4ff2-d812-861254892fba"
   },
   "outputs": [
    {
     "name": "stdout",
     "output_type": "stream",
     "text": [
      "[ 0  1  2  3  4  5  6  7  8  9 10 11]\n"
     ]
    }
   ],
   "source": [
    "ar = np.arange(12)\n",
    "\n",
    "print(ar)"
   ]
  },
  {
   "cell_type": "markdown",
   "metadata": {
    "id": "FpwKOzHTthP1"
   },
   "source": [
    "Если нам нужно расположить эти значения в двумерном массиве, мы можем сделать это с помощью функции `np.reshape` или метода `ar.reshape`:"
   ]
  },
  {
   "cell_type": "code",
   "execution_count": 61,
   "metadata": {
    "colab": {
     "base_uri": "https://localhost:8080/",
     "height": 198
    },
    "id": "LzvRGWwzthP1",
    "outputId": "657802af-10ca-4c92-fe92-15d07e47435b"
   },
   "outputs": [
    {
     "name": "stdout",
     "output_type": "stream",
     "text": [
      "[[ 0  1  2  3]\n",
      " [ 4  5  6  7]\n",
      " [ 8  9 10 11]]\n"
     ]
    }
   ],
   "source": [
    "a = ar.reshape(3, 4)\n",
    "\n",
    "print(a)"
   ]
  },
  {
   "cell_type": "markdown",
   "metadata": {
    "id": "lm4qeerothP1"
   },
   "source": [
    "Ясно, что при этом число элементов получаемого массива должно совпадать с числом элементов в оригинальном массиве. Например, следующая попытка посчитать функцию закончится ошибкой:"
   ]
  },
  {
   "cell_type": "code",
   "execution_count": 62,
   "metadata": {
    "id": "5cTc1LZmthP2"
   },
   "outputs": [
    {
     "ename": "ValueError",
     "evalue": "cannot reshape array of size 12 into shape (3,5)",
     "output_type": "error",
     "traceback": [
      "\u001b[1;31m---------------------------------------------------------------------------\u001b[0m",
      "\u001b[1;31mValueError\u001b[0m                                Traceback (most recent call last)",
      "\u001b[1;32m<ipython-input-62-cebfd21ad444>\u001b[0m in \u001b[0;36m<module>\u001b[1;34m\u001b[0m\n\u001b[1;32m----> 1\u001b[1;33m \u001b[0mb\u001b[0m \u001b[1;33m=\u001b[0m \u001b[0mar\u001b[0m\u001b[1;33m.\u001b[0m\u001b[0mreshape\u001b[0m\u001b[1;33m(\u001b[0m\u001b[1;36m3\u001b[0m\u001b[1;33m,\u001b[0m \u001b[1;36m5\u001b[0m\u001b[1;33m)\u001b[0m\u001b[1;33m\u001b[0m\u001b[1;33m\u001b[0m\u001b[0m\n\u001b[0m",
      "\u001b[1;31mValueError\u001b[0m: cannot reshape array of size 12 into shape (3,5)"
     ]
    }
   ],
   "source": [
    "b = ar.reshape(3, 5)"
   ]
  },
  {
   "cell_type": "markdown",
   "metadata": {
    "id": "OGUcu4OZthP2"
   },
   "source": [
    "Если мы знаем количество строк, которое хотим получить, но не знаем количество столбцов, в качестве второго аргумента можно передать число $-1$. Если наоборот мы знаем лишь количество столбцов, можно передать $-1$ в качестве первого аргумента."
   ]
  },
  {
   "cell_type": "code",
   "execution_count": null,
   "metadata": {
    "id": "zIvi_bFZthP2"
   },
   "outputs": [],
   "source": [
    "b = ar.reshape(3, -1)\n",
    "\n",
    "print(b)"
   ]
  },
  {
   "cell_type": "markdown",
   "metadata": {
    "id": "hSSSA7KmthP3"
   },
   "source": [
    "Метод `ar.reshape` не меняет сам массив `ar`, он лишь возвращает новый. Есть также метод `ar.resize`, который делает то же самое, что и `ar.reshape`, но не возвращает ничего и меняет исходный массив:"
   ]
  },
  {
   "cell_type": "code",
   "execution_count": null,
   "metadata": {
    "id": "8_lFywv9thP3"
   },
   "outputs": [],
   "source": [
    "ar.resize(3, 4)\n",
    "\n",
    "print(ar)"
   ]
  },
  {
   "cell_type": "markdown",
   "metadata": {
    "id": "dzmWTtnwthP3"
   },
   "source": [
    "Обратно, чтобы получить из многомерного массива одномерный, можно воспользоваться методом `ar.flatten`:"
   ]
  },
  {
   "cell_type": "code",
   "execution_count": null,
   "metadata": {
    "id": "-QA4a9EwthP3"
   },
   "outputs": [],
   "source": [
    "c = ar.flatten()\n",
    "\n",
    "print(c)"
   ]
  },
  {
   "cell_type": "markdown",
   "metadata": {
    "id": "PDcD1tgfthP4"
   },
   "source": [
    "### Соединение массивов\n",
    "\n",
    "Рассмотрим два массива и разберёмся с тем, как их можно соединить в один."
   ]
  },
  {
   "cell_type": "code",
   "execution_count": null,
   "metadata": {
    "colab": {
     "base_uri": "https://localhost:8080/",
     "height": 198
    },
    "id": "zrGZqPwPthP4",
    "outputId": "c9b3e5e5-828b-4721-97f4-33eb988f0306"
   },
   "outputs": [],
   "source": [
    "a = np.zeros((2, 3))\n",
    "\n",
    "b = np.ones((2, 3))"
   ]
  },
  {
   "cell_type": "markdown",
   "metadata": {
    "id": "fYtYxpT0thP4"
   },
   "source": [
    "Мы можем соединить эти массивы вертикально (т.е. дописать один под другим). Вот несколько способов это сделать:\n",
    "\n",
    "* с помощью функции `np.vstack`: `c = np.vstack((a, b))` (получает на вход кортеж из массивов)\n",
    "* с помощью функции `np.concatenate`: `c = np.concatenate((a, b), axis=0)` (тоже получает на вход кортеж, также нужно указать, вдоль какой оси производится конкатенация)"
   ]
  },
  {
   "cell_type": "code",
   "execution_count": null,
   "metadata": {
    "colab": {
     "base_uri": "https://localhost:8080/",
     "height": 198
    },
    "id": "cT1m6TWvthP4",
    "outputId": "88823b6c-0593-4b95-96e7-76e49f51e912"
   },
   "outputs": [],
   "source": [
    "c = np.vstack((a, b))\n",
    "\n",
    "print(c)"
   ]
  },
  {
   "cell_type": "markdown",
   "metadata": {
    "id": "hpfc68B-thP5"
   },
   "source": [
    "Также несколько способов это соединить массивы горизонтально (т.е. дописать один правее другого):\n",
    "\n",
    "* с помощью функции `np.hstack`: `c = np.hstack((a, b))`\n",
    "* с помощью функции `np.concatenate`: `c = np.concatenate((a, b), axis=1)` (производится теперь вдоль оси $1$)"
   ]
  },
  {
   "cell_type": "code",
   "execution_count": null,
   "metadata": {
    "id": "rumSSpfYthP5"
   },
   "outputs": [],
   "source": [
    "d = np.concatenate((a, b), axis=1)\n",
    "\n",
    "print(d)"
   ]
  },
  {
   "cell_type": "markdown",
   "metadata": {
    "id": "djJWEM7sthP5"
   },
   "source": [
    "Наконец, два двумерных массива можно соединить _в глубину_ (т.е. вдоль новой третьей оси) с помощью функции `np.dstack`:"
   ]
  },
  {
   "cell_type": "code",
   "execution_count": null,
   "metadata": {
    "id": "Yfn5XpN1thP6"
   },
   "outputs": [],
   "source": [
    "e = np.dstack((a, b))\n",
    "\n",
    "print(e)"
   ]
  },
  {
   "cell_type": "markdown",
   "metadata": {
    "id": "qXHgDWWbthP6"
   },
   "source": [
    "## Функции для работы с данными\n",
    "\n",
    "Библиотека `numpy` предлагает удобный функционал для выбора данных из массива. Рассмотрим массив из $10$ случайных целых значений от $0$ до $19$:"
   ]
  },
  {
   "cell_type": "markdown",
   "metadata": {
    "id": "y5AnPm0VVuWC"
   },
   "source": [
    "# Новый раздел"
   ]
  },
  {
   "cell_type": "code",
   "execution_count": null,
   "metadata": {
    "id": "BNLlYgqJthP6",
    "outputId": "b205631b-a725-4f69-bda1-9bae63a9cf2a"
   },
   "outputs": [],
   "source": [
    "a = np.random.randint(0, 20, 10)\n",
    "\n",
    "print(a)"
   ]
  },
  {
   "cell_type": "markdown",
   "metadata": {
    "id": "UuPfBHzRthP7"
   },
   "source": [
    "Допустим, мы хотим выбрать все значения этого массива, которые больше $10$. Вот как это можно сделать:"
   ]
  },
  {
   "cell_type": "code",
   "execution_count": null,
   "metadata": {
    "id": "c6duG_xUthP7",
    "outputId": "84e6f4c1-733c-4039-b9ce-7d8fe23dd070"
   },
   "outputs": [],
   "source": [
    "b = a[a > 10]\n",
    "\n",
    "print(b)"
   ]
  },
  {
   "cell_type": "markdown",
   "metadata": {
    "id": "NgQWbSUVthP7"
   },
   "source": [
    "*Свойства* можно комбинировать, используя логические операторы \"и\" (обозначается символом $\\&$), \"или\" (символ $\\mid$) и оператор отрицания \"не\" (символ $\\sim$). При этом каждое условие необходимо поставить в круглые скобки:"
   ]
  },
  {
   "cell_type": "code",
   "execution_count": null,
   "metadata": {
    "id": "zdI7Ak5othP8",
    "outputId": "b5e73c7b-c1fd-40c6-e43c-e17ca03ee008"
   },
   "outputs": [],
   "source": [
    "c = a[(a > 0) & (a % 2 == 0)]\n",
    "\n",
    "print(c)"
   ]
  },
  {
   "cell_type": "markdown",
   "metadata": {
    "id": "m-nvj7pNthP8"
   },
   "source": [
    "Такая конструкция в `numpy` называется _булевой индексацией_. Разберёмся с ней поподробнее. Что из себя представляет объект `a > 0`?"
   ]
  },
  {
   "cell_type": "code",
   "execution_count": null,
   "metadata": {
    "id": "6F5aj3rNthP8",
    "outputId": "1ba73905-cd70-433c-ce61-6ec0308c24ee"
   },
   "outputs": [],
   "source": [
    "print(a > 10)"
   ]
  },
  {
   "cell_type": "markdown",
   "metadata": {
    "id": "BhOYyZJlthP9"
   },
   "source": [
    "Как мы видим, это просто `numpy`-массив из булевых значений `True` и `False`. Когда мы подставляем такой массив в качестве _индекса_ массива `a`, нам возвращаются все элементы, на позиции которых в этом массиве стоит значение `True`.\n",
    "\n",
    "Можно просто создать такой массив вручную и передать его в качестве индекса:"
   ]
  },
  {
   "cell_type": "code",
   "execution_count": null,
   "metadata": {
    "id": "jCq45Et9thP9",
    "outputId": "2513bea3-4e5f-48c9-d10e-f06ccc3ae148"
   },
   "outputs": [],
   "source": [
    "ind = np.array([True, False, True, True, False, False, False, True, True, False])\n",
    "\n",
    "print(a[ind])"
   ]
  },
  {
   "cell_type": "markdown",
   "metadata": {
    "id": "S34xVnrythP9"
   },
   "source": [
    "Другой способ выбрать значения из массива - с помощью функции `np.where`. Она берёт массив из булевых значений и возвращает _индексы_ истинных значений:"
   ]
  },
  {
   "cell_type": "code",
   "execution_count": null,
   "metadata": {
    "id": "kaNxZ1hxthP9",
    "outputId": "d76ac847-ca89-491e-e4d5-a9048eb30a1b"
   },
   "outputs": [],
   "source": [
    "ind1 = np.where(a > 10)\n",
    "\n",
    "print(ind1)"
   ]
  },
  {
   "cell_type": "markdown",
   "metadata": {
    "id": "qlVN80RsthP-"
   },
   "source": [
    "Такой список индексов можно также передать в массив `a` чтобы получить конкретные значения:"
   ]
  },
  {
   "cell_type": "code",
   "execution_count": null,
   "metadata": {
    "id": "4RBBhe98thP-",
    "outputId": "dbc453f8-c54e-4b36-e577-202db5e7582d"
   },
   "outputs": [],
   "source": [
    "d = a[ind1]\n",
    "\n",
    "print(d)"
   ]
  },
  {
   "cell_type": "markdown",
   "metadata": {
    "id": "mNtIhjSSthP-"
   },
   "source": [
    "То же самое можно сделать и вручную: передать в квадратные скобки массива `a` какой-нибудь список из индексов:"
   ]
  },
  {
   "cell_type": "code",
   "execution_count": null,
   "metadata": {
    "id": "jHXPi7XuthP_",
    "outputId": "adc08aed-d620-4756-9271-4e5cadfcbb0f"
   },
   "outputs": [],
   "source": [
    "e = a[[0, 4, 7]]\n",
    "\n",
    "print(e)"
   ]
  },
  {
   "cell_type": "markdown",
   "metadata": {
    "id": "IJE6N7gRthP_"
   },
   "source": [
    "Отметим также, что если массив `a` является многомерным, то чтобы выбрать таким образом из него значения, нужно указать внутри квадратных скобок через запятую столько списков, сколько имеется у массива измерений:"
   ]
  },
  {
   "cell_type": "code",
   "execution_count": null,
   "metadata": {
    "id": "l5fXv2F7thP_",
    "outputId": "31d1afcb-8af4-4a04-8beb-92cc11c8c73f"
   },
   "outputs": [],
   "source": [
    "a.resize((5, 2))\n",
    "\n",
    "print(a)"
   ]
  },
  {
   "cell_type": "code",
   "execution_count": null,
   "metadata": {
    "id": "Dt2wUyIBthQA",
    "outputId": "f0f67139-3c59-4d73-84b6-187163f82e65"
   },
   "outputs": [],
   "source": [
    "f = a[[1, 4], :]\n",
    "\n",
    "print(f)"
   ]
  },
  {
   "cell_type": "markdown",
   "metadata": {
    "id": "S9JYa_VathQA"
   },
   "source": [
    "### Сортировка\n",
    "\n",
    "Рассмотрим двумерный массив:"
   ]
  },
  {
   "cell_type": "code",
   "execution_count": null,
   "metadata": {
    "id": "TBxuSZMDthQA",
    "outputId": "09e6d550-8c0f-4bf2-f00e-0e44f88f556b"
   },
   "outputs": [],
   "source": [
    "a = np.random.randint(0, 6, (3, 4))\n",
    "\n",
    "print(a)"
   ]
  },
  {
   "cell_type": "markdown",
   "metadata": {
    "id": "MRbz2dzJthQB"
   },
   "source": [
    "Допустим, мы хотим отсортировать строки этого массива по второму столбцу. Мы можем сделать это вручную, задав индексы строк в нужном нам порядке:"
   ]
  },
  {
   "cell_type": "code",
   "execution_count": null,
   "metadata": {
    "id": "AiJKsCjethQB",
    "outputId": "29f597ec-095a-40ee-e606-aa59579cbd87"
   },
   "outputs": [],
   "source": [
    "b = a[[1, 2, 0], :]\n",
    "\n",
    "print(b)"
   ]
  },
  {
   "cell_type": "markdown",
   "metadata": {
    "id": "i_ObDvE8thQC"
   },
   "source": [
    "Этот процесс можно автоматизировать с помощью метода `a.argsort`. Данный метод возвращает массив из индексов массива `a` в порядке их возрастания по заданной оси:"
   ]
  },
  {
   "cell_type": "code",
   "execution_count": null,
   "metadata": {
    "id": "lwPJL4LOthQC",
    "outputId": "3e8df2e6-44ed-476a-c66f-023b6b8ceb3d"
   },
   "outputs": [],
   "source": [
    "ind = a.argsort(axis=0)\n",
    "\n",
    "print(ind)"
   ]
  },
  {
   "cell_type": "markdown",
   "metadata": {
    "id": "yGiV0WV3thQC"
   },
   "source": [
    "В каждом столбце этого массива стоят индексы строк массива `a`, расположенные в том порядке, в котором они бы отсортировали данный столбец по возрастанию. Автоматизируем процесс сортировки массива `a` по второму столбцу. Для этого нужно получить второй столбец из массива, полученного с помощью метода `a.argsort`:"
   ]
  },
  {
   "cell_type": "code",
   "execution_count": null,
   "metadata": {
    "id": "qgDpSFrathQD",
    "outputId": "55a1bde9-b66b-43ea-ace9-b134d56de4a5"
   },
   "outputs": [],
   "source": [
    "ind1 = a[:, 1].argsort()\n",
    "\n",
    "print(ind1)"
   ]
  },
  {
   "cell_type": "markdown",
   "metadata": {
    "id": "uuqmQl08thQD"
   },
   "source": [
    "Итоговая конструкция будет выглядеть так:"
   ]
  },
  {
   "cell_type": "code",
   "execution_count": null,
   "metadata": {
    "id": "AKPt00NPthQD",
    "outputId": "550e4317-d583-4115-cc87-fc0459d42491"
   },
   "outputs": [],
   "source": [
    "c = a[a[:, 1].argsort(), :]\n",
    "\n",
    "print(c)"
   ]
  },
  {
   "cell_type": "markdown",
   "metadata": {
    "id": "eQH0GAvmthQE"
   },
   "source": [
    "### Перемешивание\n",
    "\n",
    "Иногда оказывается нужно перемешать значения массива. Это можно сделать с помощью функции `shuffle` из модуля `numpy.random`. Эта функция ничего не возвращает, лишь перемешивает случайным образом элементы данного массива. Отметим, что она перемешивает массив только в первом измерении. Другими словами, если массив двумерный, она лишь переставит его строки местами. Содержимое самих строк при этом не изменится:"
   ]
  },
  {
   "cell_type": "code",
   "execution_count": null,
   "metadata": {
    "id": "UrBtSkfNthQE",
    "outputId": "800c0f2b-5a05-47d6-ef6f-c1dd5531b1ca"
   },
   "outputs": [],
   "source": [
    "np.random.shuffle(c)\n",
    "\n",
    "print(c)"
   ]
  },
  {
   "cell_type": "markdown",
   "metadata": {
    "id": "IIXgYSeythQE"
   },
   "source": [
    "### Математические операции над массивами\n",
    "\n",
    "Некоторые математические операции можно выполнять с массивами целиком. Например, мы уже знаем, что массивы можно умножать на число и что массивы одинаковой формы можно складывать."
   ]
  },
  {
   "cell_type": "code",
   "execution_count": null,
   "metadata": {
    "colab": {
     "base_uri": "https://localhost:8080/",
     "height": 232
    },
    "id": "nKaNcgsAthQE",
    "outputId": "bc10f986-4a81-4b3a-cbc6-e5f4a394cbe5"
   },
   "outputs": [],
   "source": [
    "a = np.arange(0, 6).reshape(2, 3)\n",
    "b = np.arange(6, 12).reshape(2, 3)\n",
    "\n",
    "print(a)\n",
    "print(b)"
   ]
  },
  {
   "cell_type": "code",
   "execution_count": null,
   "metadata": {
    "id": "wmvCL4fjthQF",
    "outputId": "5c0b9879-66dc-4ed6-d8fb-0b7f536b3fb6"
   },
   "outputs": [],
   "source": [
    "print(a + b)"
   ]
  },
  {
   "cell_type": "code",
   "execution_count": null,
   "metadata": {
    "id": "hfpC-5xjthQK",
    "outputId": "85e3a8bb-addb-4be6-fa02-8569132e31bc"
   },
   "outputs": [],
   "source": [
    "print(a * 2)"
   ]
  },
  {
   "cell_type": "markdown",
   "metadata": {
    "id": "02IYukiEthQK"
   },
   "source": [
    "К массивам можно также прибавлять числа - в этом случае к каждому элементу массива прибавляется число:"
   ]
  },
  {
   "cell_type": "code",
   "execution_count": null,
   "metadata": {
    "id": "HwdtsAQxthQL",
    "outputId": "c427aff2-e11f-482f-cf30-8c0f628dc5d8"
   },
   "outputs": [],
   "source": [
    "print(a + 1)"
   ]
  },
  {
   "cell_type": "markdown",
   "metadata": {
    "id": "mvhyZhkwthQL"
   },
   "source": [
    "Массивы одинакового размера можно поэлементно умножать. (Важно не путать с матричным умножением.)"
   ]
  },
  {
   "cell_type": "code",
   "execution_count": null,
   "metadata": {
    "id": "XaUVmlS-thQL",
    "outputId": "ffd60edc-4b08-4728-d700-79aa65e89ff4"
   },
   "outputs": [],
   "source": [
    "print(a * b)"
   ]
  },
  {
   "cell_type": "markdown",
   "metadata": {
    "id": "aMek87MgthQL"
   },
   "source": [
    "С помощью метода `a.sum` можно посчитать сумму всех значений массива. Если указать в этом методе ось `axis`, сумма будет посчитана только вдоль этой оси:"
   ]
  },
  {
   "cell_type": "code",
   "execution_count": null,
   "metadata": {
    "id": "JyKKnz9BthQM",
    "outputId": "06245e89-ef2a-4b78-ba38-ec7b46fa524c"
   },
   "outputs": [],
   "source": [
    "print(\"Сумма всех элементов: {}\".format(a.sum()))\n",
    "\n",
    "print('Сумма по столбцам (\"вдоль\" строк): {}'.format(a.sum(axis=0)))\n",
    "\n",
    "print('Сумма по строкам (\"вдоль\" столбцов): {}'.format(a.sum(axis=1)))"
   ]
  },
  {
   "cell_type": "markdown",
   "metadata": {
    "id": "OX5frGgwGeyI"
   },
   "source": [
    "#### Broadcasting\n",
    "\n",
    "В определённых случаях мы можем выполнять операции сложения и умножения над матрицами разных размеров. Концепция _broadcasting_ заключается в том, что в некоторых случаях интерпретатор \"догадывается\", что одну массив надо в каком-то измерении \"растянуть\" до соответствия со вторым массивом. Рассмотрим массив размера $3 \\times 2$:"
   ]
  },
  {
   "cell_type": "code",
   "execution_count": null,
   "metadata": {
    "id": "8_DzyQH9thQM"
   },
   "outputs": [],
   "source": [
    "a = np.array([[2, 5],\n",
    "              [3, 4],\n",
    "              [6, 1]])"
   ]
  },
  {
   "cell_type": "markdown",
   "metadata": {
    "id": "3g3VF-cDthQN"
   },
   "source": [
    "а также одномерный массив размера $2$:"
   ]
  },
  {
   "cell_type": "code",
   "execution_count": null,
   "metadata": {
    "id": "od27dVH-thQN"
   },
   "outputs": [],
   "source": [
    "b = np.array([1, 2])"
   ]
  },
  {
   "cell_type": "markdown",
   "metadata": {
    "id": "79T7eIf1thQN"
   },
   "source": [
    "Если мы попытаемся их сложить, интерпретатор заметит, что у них совпадает одно из измерений: у них обоих $2$ столбца. Поэтому интерпретатор как бы \"растянет\" массив `b` до размера $2 \\times 3$ и прибавит его к массиву `a`:"
   ]
  },
  {
   "cell_type": "code",
   "execution_count": null,
   "metadata": {
    "id": "8N8hC8qZkhVS"
   },
   "outputs": [],
   "source": []
  },
  {
   "cell_type": "code",
   "execution_count": null,
   "metadata": {
    "id": "h01Sf9hnthQN",
    "outputId": "60a16a20-d57e-4e86-8e0f-4932a52d8965"
   },
   "outputs": [],
   "source": [
    "c = a + b\n",
    "\n",
    "print(c)"
   ]
  },
  {
   "cell_type": "markdown",
   "metadata": {
    "id": "eIntFOXVthQO"
   },
   "source": [
    "На самом деле здесь строка `b` просто прибавится к каждой строке массива `a`.\n",
    "\n",
    "Аналогично можно поступить и со столбцами:"
   ]
  },
  {
   "cell_type": "code",
   "execution_count": null,
   "metadata": {
    "id": "FGHw5gquthQO",
    "outputId": "8877bf27-47ed-4012-f5cd-6b586546516d"
   },
   "outputs": [],
   "source": [
    "d = np.array([[0],\n",
    "              [1],\n",
    "              [-1]])\n",
    "\n",
    "e = a + d\n",
    "\n",
    "print(e)"
   ]
  },
  {
   "cell_type": "markdown",
   "metadata": {
    "id": "8EiZnQy5thQO"
   },
   "source": [
    "Интерпретатор заметит, что у этих массивов совпадает число строк, поэтому \"растянет\" массив `d` до размера массива `a`. Попросту говоря, столбец `b` прибавится к каждому из столбцов массива `a`.\n",
    "\n",
    "Имеются и более сложные конструкции broadcasting, о них можно почитать [здесь](https://docs.scipy.org/doc/numpy/user/basics.broadcasting.html).\n",
    "\n",
    "В случае, когда размеры массивов согласовать не удаётся, выпадает ошибка:"
   ]
  },
  {
   "cell_type": "code",
   "execution_count": null,
   "metadata": {
    "id": "ZAyvuBvuthQP",
    "outputId": "e00f193f-4852-4a49-edf8-5a38fc7bb61c"
   },
   "outputs": [],
   "source": [
    "f = np.array([0, 1, -1])\n",
    "\n",
    "a + f"
   ]
  },
  {
   "cell_type": "markdown",
   "metadata": {
    "id": "4jDiDhGtthQP"
   },
   "source": [
    "#### Статистические функции\n",
    "\n",
    "Вот несколько методов, позволяющих вычислить различные статистики массива `a`:\n",
    "\n",
    "* `a.min` - минимальное значение\n",
    "* `a.max` - максимальное значение\n",
    "* `a.mean` - среднее значение\n",
    "* `a.std` - среднее квадратическое отклонение\n",
    "\n",
    "Все эти значения считаются по всему массиву, либо вдоль определённой оси, если задан параметр `axis`."
   ]
  },
  {
   "cell_type": "code",
   "execution_count": null,
   "metadata": {
    "id": "iNVkvi3TthQP",
    "outputId": "0561f4d1-323d-461f-f8d3-975fe11fcc08"
   },
   "outputs": [],
   "source": [
    "print(a)"
   ]
  },
  {
   "cell_type": "code",
   "execution_count": null,
   "metadata": {
    "id": "A8CdUvmXthQP",
    "outputId": "a1512a53-996a-42b5-9c29-bf3d75484227"
   },
   "outputs": [],
   "source": [
    "print(\"Минимальное значение: {}\".format(a.min()))\n",
    "\n",
    "print(\"Средние значения строк: {}\".format(a.mean(axis=1)))\n",
    "\n",
    "print(\"Средние квадратические отклонения столбцов: {}\".format(a.mean(axis=0)))"
   ]
  },
  {
   "cell_type": "markdown",
   "metadata": {
    "id": "jyuR3GAqthQQ"
   },
   "source": [
    "### Запись и чтение массивов из файла\n",
    "\n",
    "Массивы `numpy` можно сохранять в файлы с расширением `.npy` и читать из таких файлов.\n",
    "\n",
    "Для записи массива в файл используется функция `np.save`:"
   ]
  },
  {
   "cell_type": "code",
   "execution_count": null,
   "metadata": {
    "id": "dWoTJHePthQQ"
   },
   "outputs": [],
   "source": [
    "np.save(\"a.npy\", a)"
   ]
  },
  {
   "cell_type": "markdown",
   "metadata": {
    "id": "yGw4RcrkthQQ"
   },
   "source": [
    "Для чтения из файла используется функция `np.load`:"
   ]
  },
  {
   "cell_type": "code",
   "execution_count": null,
   "metadata": {
    "id": "E5faEnLMthQR"
   },
   "outputs": [],
   "source": [
    "a = np.load(\"a.npy\")"
   ]
  },
  {
   "cell_type": "markdown",
   "metadata": {},
   "source": [
    "# Домашнее задание"
   ]
  },
  {
   "cell_type": "markdown",
   "metadata": {},
   "source": [
    "### Задание 1\n",
    "Импортируйте библиотеку Numpy и дайте ей псевдоним np.\n",
    "Создайте массив Numpy под названием a размером 5x2, то есть состоящий из 5 строк и 2 столбцов. Первый столбец должен содержать числа 1, 2, 3, 3, 1, а второй - числа 6, 8, 11, 10, 7. Будем считать, что каждый столбец - это признак, а строка - наблюдение. Затем найдите среднее значение по каждому признаку, используя метод mean массива Numpy. Результат запишите в массив mean_a, в нем должно быть 2 элемента."
   ]
  },
  {
   "cell_type": "code",
   "execution_count": 65,
   "metadata": {},
   "outputs": [
    {
     "data": {
      "text/plain": [
       "array([[ 1,  6],\n",
       "       [ 2,  8],\n",
       "       [ 3, 11],\n",
       "       [ 3, 10],\n",
       "       [ 1,  7]])"
      ]
     },
     "execution_count": 65,
     "metadata": {},
     "output_type": "execute_result"
    }
   ],
   "source": [
    "import numpy as np\n",
    "\n",
    "a = np.array([[1, 6], \n",
    "              [2, 8], \n",
    "              [3, 11],\n",
    "              [3, 10],\n",
    "              [1, 7]])\n",
    "\n",
    "# alternative way\n",
    "\n",
    "# a = np.array([[1, 2, 3, 3, 1],\n",
    "             # [6, 8, 11, 10, 7]]).T\n",
    "\n",
    "a"
   ]
  },
  {
   "cell_type": "code",
   "execution_count": 67,
   "metadata": {},
   "outputs": [
    {
     "data": {
      "text/plain": [
       "array([2. , 8.4])"
      ]
     },
     "execution_count": 67,
     "metadata": {},
     "output_type": "execute_result"
    }
   ],
   "source": [
    "mean_a = a.mean(axis=0)\n",
    "mean_a"
   ]
  },
  {
   "cell_type": "markdown",
   "metadata": {},
   "source": [
    "### Задание 2\n",
    "\n",
    "Вычислите массив a_centered, отняв от значений массива “а” средние значения соответствующих признаков, содержащиеся в массиве mean_a. Вычисление должно производиться в одно действие. Получившийся массив должен иметь размер 5x2."
   ]
  },
  {
   "cell_type": "code",
   "execution_count": 68,
   "metadata": {},
   "outputs": [
    {
     "data": {
      "text/plain": [
       "array([[-1. , -2.4],\n",
       "       [ 0. , -0.4],\n",
       "       [ 1. ,  2.6],\n",
       "       [ 1. ,  1.6],\n",
       "       [-1. , -1.4]])"
      ]
     },
     "execution_count": 68,
     "metadata": {},
     "output_type": "execute_result"
    }
   ],
   "source": [
    "a_centered = np.subtract(a, mean_a)\n",
    "a_centered"
   ]
  },
  {
   "cell_type": "markdown",
   "metadata": {},
   "source": [
    "### Задание 3\n",
    "\n",
    "Найдите скалярное произведение столбцов массива a_centered. В результате должна получиться величина a_centered_sp. Затем поделите a_centered_sp на N-1, где N - число наблюдений."
   ]
  },
  {
   "cell_type": "code",
   "execution_count": 85,
   "metadata": {},
   "outputs": [
    {
     "data": {
      "text/plain": [
       "2.0"
      ]
     },
     "execution_count": 85,
     "metadata": {},
     "output_type": "execute_result"
    }
   ],
   "source": [
    "a_centered_sp = np.dot(a_centered[:,0], a_centered[:,1]) / (a_centered.shape[0] - 1)\n",
    "a_centered_sp"
   ]
  },
  {
   "cell_type": "markdown",
   "metadata": {},
   "source": [
    "### Задание 4**\n",
    "Число, которое мы получили в конце задания 3 является ковариацией двух признаков, содержащихся в массиве “а”. В задании 4 мы делили сумму произведений центрированных признаков на N-1, а не на N, поэтому полученная нами величина является несмещенной оценкой ковариации.\n",
    "Подробнее узнать о ковариации можно здесь:\n",
    "https://studopedia.ru/9_153900_viborochnaya-kovariatsiya-i-viborochnaya-dispersiya.html\n",
    "\n",
    "В этом задании проверьте получившееся число, вычислив ковариацию еще одним способом - с помощью функции np.cov. В качестве аргумента m функция np.cov должна принимать транспонированный массив “a”. В получившейся ковариационной матрице (массив Numpy размером 2x2) искомое значение ковариации будет равно элементу в строке с индексом 0 и столбце с индексом 1.\n"
   ]
  },
  {
   "cell_type": "code",
   "execution_count": 89,
   "metadata": {},
   "outputs": [
    {
     "data": {
      "text/plain": [
       "array([[1. , 2. ],\n",
       "       [2. , 4.3]])"
      ]
     },
     "execution_count": 89,
     "metadata": {},
     "output_type": "execute_result"
    }
   ],
   "source": [
    "np.cov(a.T)"
   ]
  }
 ],
 "metadata": {
  "colab": {
   "collapsed_sections": [
    "Em88AWjtthPX",
    "eM3PjpO4thPd",
    "pwx3FhOwthPg",
    "-ibAxtnYthPk",
    "2fAbQoI-thPn",
    "LCJIyWkRthPr",
    "ksto-Jf1thPx",
    "VypbgbN0thP0",
    "PDcD1tgfthP4",
    "qXHgDWWbthP6",
    "S9JYa_VathQA",
    "eQH0GAvmthQE",
    "OX5frGgwGeyI",
    "4jDiDhGtthQP",
    "jyuR3GAqthQQ"
   ],
   "name": "1. Вычисления с помощью Numpy.ipynb",
   "provenance": []
  },
  "kernelspec": {
   "display_name": "Python 3",
   "language": "python",
   "name": "python3"
  },
  "language_info": {
   "codemirror_mode": {
    "name": "ipython",
    "version": 3
   },
   "file_extension": ".py",
   "mimetype": "text/x-python",
   "name": "python",
   "nbconvert_exporter": "python",
   "pygments_lexer": "ipython3",
   "version": "3.8.3"
  }
 },
 "nbformat": 4,
 "nbformat_minor": 1
}
